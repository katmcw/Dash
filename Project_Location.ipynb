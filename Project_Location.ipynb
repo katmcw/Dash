{
  "nbformat": 4,
  "nbformat_minor": 0,
  "metadata": {
    "colab": {
      "name": "Project Location",
      "provenance": [],
      "collapsed_sections": [],
      "authorship_tag": "ABX9TyN2GQf/DOiK/Wc7CQOoiUAa",
      "include_colab_link": true
    },
    "kernelspec": {
      "name": "python3",
      "display_name": "Python 3"
    },
    "language_info": {
      "name": "python"
    }
  },
  "cells": [
    {
      "cell_type": "markdown",
      "metadata": {
        "id": "view-in-github",
        "colab_type": "text"
      },
      "source": [
        "<a href=\"https://colab.research.google.com/github/katmcw/Dash/blob/main/Project_Location.ipynb\" target=\"_parent\"><img src=\"https://colab.research.google.com/assets/colab-badge.svg\" alt=\"Open In Colab\"/></a>"
      ]
    },
    {
      "cell_type": "code",
      "metadata": {
        "colab": {
          "base_uri": "https://localhost:8080/"
        },
        "id": "cxtl8krMQTJb",
        "outputId": "65a473ed-b79a-4e21-8469-80971cec8783"
      },
      "source": [
        "#import API into session \n",
        "import ee\n",
        "#Authenticate and initialise library \n",
        "ee.Authenticate ()\n",
        "ee.Initialize()\n",
        "\n",
        "#First determine the location of research\n",
        "#Sentinnel 2 was launched 23/06/2015 \n",
        "#Therefore smart buouy data after the date of launch is required\n",
        "\n",
        "#First Obtain the number of satellite images of WESTGAB2, the answer is 225\n",
        "\n",
        "#point = ee.Geometry.Point([longitude,latitude])\n",
        "point = ee.Geometry.Point([2.1096,51.95458])\n",
        "start_time = '2016-05-10'\n",
        "end_time = '2020-10-23'\n",
        "# Sentinel 2 Data \n",
        "S2 = ee.ImageCollection(\"COPERNICUS/S2_SR\");\n",
        "# Filtering\n",
        "S2TemporalFiltered = S2.filterDate(start_time,end_time);\n",
        "S2SpatialFiltered = S2TemporalFilteredE.filterBounds(point);\n",
        "imagenes = S2SpatialFilteredE.size()\n",
        "S2SpatialFiltered.size().getInfo()\n",
        "\n",
        "#Obtain the number of satellite images of DOWSING, the answer is 499 \n",
        "\n",
        "#point = ee.Geometry.Point([longitude,latitude])\n",
        "point = ee.Geometry.Point([1.05313333333333,53.5313333333333])\n",
        "start_time = '2009-01-10'\n",
        "end_time = '2019-05-14'\n",
        "# Sentinel 2 Data \n",
        "S2 = ee.ImageCollection(\"COPERNICUS/S2_SR\");\n",
        "# Filtering\n",
        "S2TemporalFiltered = S2.filterDate(start_time,end_time);\n",
        "S2SpatialFiltered = S2TemporalFiltered.filterBounds(point);\n",
        "imagenes = S2SpatialFiltered.size()\n",
        "S2SpatialFiltered.size().getInfo()\n",
        "\n",
        "\n",
        "#From the available satellite images, DOWSING will be the location with the most\n",
        "#available data \n",
        "\n",
        " \n",
        "\n"
      ],
      "execution_count": 36,
      "outputs": [
        {
          "output_type": "stream",
          "name": "stdout",
          "text": [
            "To authorize access needed by Earth Engine, open the following URL in a web browser and follow the instructions. If the web browser does not start automatically, please manually browse the URL below.\n",
            "\n",
            "    https://accounts.google.com/o/oauth2/auth?client_id=517222506229-vsmmajv00ul0bs7p89v5m89qs8eb9359.apps.googleusercontent.com&scope=https%3A%2F%2Fwww.googleapis.com%2Fauth%2Fearthengine+https%3A%2F%2Fwww.googleapis.com%2Fauth%2Fdevstorage.full_control&redirect_uri=urn%3Aietf%3Awg%3Aoauth%3A2.0%3Aoob&response_type=code&code_challenge=oicEPzcYZEs3wtdU57tXHxVMZxEhCFibyD1VLOPl2zY&code_challenge_method=S256\n",
            "\n",
            "The authorization workflow will generate a code, which you should paste in the box below. \n",
            "Enter verification code: 4/1AX4XfWiiMIpC2mFeDGVMyxQ0RZjwxP7n0r34fKWnT7zBxEE-jXATFkUbbJc\n",
            "\n",
            "Successfully saved authorization token.\n"
          ]
        },
        {
          "output_type": "execute_result",
          "data": {
            "text/plain": [
              "0"
            ]
          },
          "metadata": {},
          "execution_count": 36
        }
      ]
    }
  ]
}